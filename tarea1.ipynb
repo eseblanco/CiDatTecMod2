{
  "nbformat": 4,
  "nbformat_minor": 0,
  "metadata": {
    "colab": {
      "provenance": [],
      "authorship_tag": "ABX9TyNeTSS6mCPvFLLQS9UAww7B",
      "include_colab_link": true
    },
    "kernelspec": {
      "name": "python3",
      "display_name": "Python 3"
    },
    "language_info": {
      "name": "python"
    }
  },
  "cells": [
    {
      "cell_type": "markdown",
      "metadata": {
        "id": "view-in-github",
        "colab_type": "text"
      },
      "source": [
        "<a href=\"https://colab.research.google.com/github/eseblanco/CiDatTecMod2/blob/main/tarea1.ipynb\" target=\"_parent\"><img src=\"https://colab.research.google.com/assets/colab-badge.svg\" alt=\"Open In Colab\"/></a>"
      ]
    },
    {
      "cell_type": "markdown",
      "source": [
        "\n"
      ],
      "metadata": {
        "id": "xx-TUhHCHMtG"
      }
    },
    {
      "cell_type": "code",
      "source": [
        "import os\n",
        "import kagglehub\n",
        "import zipfile\n",
        "import numpy as np\n",
        "import pandas as pd\n",
        "import matplotlib.pyplot as plt\n",
        "import seaborn as sms\n",
        "%matplotlib inline\n",
        "\n",
        "#https://www.kaggle.com/datasets/diegorojasdiaz/123-emergency-calls-in-bogota\n",
        "# Download latest version\n",
        "path = kagglehub.dataset_download(\"diegorojasdiaz/123-emergency-calls-in-bogota\")\n",
        "\n",
        "print(\"\\n Path to dataset files:\\n\\n\", path)\n",
        "\n"
      ],
      "metadata": {
        "colab": {
          "base_uri": "https://localhost:8080/"
        },
        "id": "uq5765-JHEw6",
        "outputId": "f8523afe-2025-4e27-8c61-4a62206655ef"
      },
      "execution_count": 11,
      "outputs": [
        {
          "output_type": "stream",
          "name": "stdout",
          "text": [
            "Using Colab cache for faster access to the '123-emergency-calls-in-bogota' dataset.\n",
            "\n",
            " Path to dataset files:\n",
            "\n",
            " /kaggle/input/123-emergency-calls-in-bogota\n"
          ]
        }
      ]
    },
    {
      "cell_type": "markdown",
      "source": [
        "Carga de Archivos"
      ],
      "metadata": {
        "id": "FfHPzJAtHcAg"
      }
    },
    {
      "cell_type": "code",
      "source": [
        "emergencia_data = pd.read_csv(path+\"/clean_df_123.csv\")\n",
        "\n",
        "emergencia_data.head()\n",
        "\n"
      ],
      "metadata": {
        "colab": {
          "base_uri": "https://localhost:8080/",
          "height": 348
        },
        "id": "TE98mr7uHe1n",
        "outputId": "521da347-667e-466e-976e-41b6e0816855"
      },
      "execution_count": 4,
      "outputs": [
        {
          "output_type": "stream",
          "name": "stderr",
          "text": [
            "/tmp/ipython-input-183641980.py:1: DtypeWarning: Columns (8) have mixed types. Specify dtype option on import or set low_memory=False.\n",
            "  emergencia_data = pd.read_csv(path+\"/clean_df_123.csv\")\n"
          ]
        },
        {
          "output_type": "execute_result",
          "data": {
            "text/plain": [
              "  FECHA_INICIO_DESPLAZAMIENTO_MOVIL  CODIGO_LOCALIDAD       LOCALIDAD  EDAD  \\\n",
              "0               2019-01-01 00:04:37                11            Suba   NaN   \n",
              "1               2019-01-01 00:07:41                 3        Santa Fe  51.0   \n",
              "2               2019-01-01 00:07:46                10        Engativá   NaN   \n",
              "3               2019-01-01 00:08:06                16   Puente Aranda   NaN   \n",
              "4               2019-01-01 00:10:26                15  Antonio Nariño   NaN   \n",
              "\n",
              "     GENERO    RED                             TIPO_INCIDENTE PRIORIDAD  \\\n",
              "0       NaN  Norte                        Lesiones personales      Alta   \n",
              "1  Femenino  Norte                             Dolor torácico      Alta   \n",
              "2       NaN  Norte      Inconsciente/paro cardiorrespiratorio      Alta   \n",
              "3       NaN    Sur  Accidente de tránsito con heridos/muertos      Alta   \n",
              "4       NaN  Norte      Inconsciente/paro cardiorrespiratorio      Alta   \n",
              "\n",
              "  CLASIFICACION_FINAL  \n",
              "0           Cancelado  \n",
              "1            Traslado  \n",
              "2        Falsa Alarma  \n",
              "3           Cancelado  \n",
              "4           Cancelado  "
            ],
            "text/html": [
              "\n",
              "  <div id=\"df-32b5e51e-249a-4d06-bbda-1c57982682d9\" class=\"colab-df-container\">\n",
              "    <div>\n",
              "<style scoped>\n",
              "    .dataframe tbody tr th:only-of-type {\n",
              "        vertical-align: middle;\n",
              "    }\n",
              "\n",
              "    .dataframe tbody tr th {\n",
              "        vertical-align: top;\n",
              "    }\n",
              "\n",
              "    .dataframe thead th {\n",
              "        text-align: right;\n",
              "    }\n",
              "</style>\n",
              "<table border=\"1\" class=\"dataframe\">\n",
              "  <thead>\n",
              "    <tr style=\"text-align: right;\">\n",
              "      <th></th>\n",
              "      <th>FECHA_INICIO_DESPLAZAMIENTO_MOVIL</th>\n",
              "      <th>CODIGO_LOCALIDAD</th>\n",
              "      <th>LOCALIDAD</th>\n",
              "      <th>EDAD</th>\n",
              "      <th>GENERO</th>\n",
              "      <th>RED</th>\n",
              "      <th>TIPO_INCIDENTE</th>\n",
              "      <th>PRIORIDAD</th>\n",
              "      <th>CLASIFICACION_FINAL</th>\n",
              "    </tr>\n",
              "  </thead>\n",
              "  <tbody>\n",
              "    <tr>\n",
              "      <th>0</th>\n",
              "      <td>2019-01-01 00:04:37</td>\n",
              "      <td>11</td>\n",
              "      <td>Suba</td>\n",
              "      <td>NaN</td>\n",
              "      <td>NaN</td>\n",
              "      <td>Norte</td>\n",
              "      <td>Lesiones personales</td>\n",
              "      <td>Alta</td>\n",
              "      <td>Cancelado</td>\n",
              "    </tr>\n",
              "    <tr>\n",
              "      <th>1</th>\n",
              "      <td>2019-01-01 00:07:41</td>\n",
              "      <td>3</td>\n",
              "      <td>Santa Fe</td>\n",
              "      <td>51.0</td>\n",
              "      <td>Femenino</td>\n",
              "      <td>Norte</td>\n",
              "      <td>Dolor torácico</td>\n",
              "      <td>Alta</td>\n",
              "      <td>Traslado</td>\n",
              "    </tr>\n",
              "    <tr>\n",
              "      <th>2</th>\n",
              "      <td>2019-01-01 00:07:46</td>\n",
              "      <td>10</td>\n",
              "      <td>Engativá</td>\n",
              "      <td>NaN</td>\n",
              "      <td>NaN</td>\n",
              "      <td>Norte</td>\n",
              "      <td>Inconsciente/paro cardiorrespiratorio</td>\n",
              "      <td>Alta</td>\n",
              "      <td>Falsa Alarma</td>\n",
              "    </tr>\n",
              "    <tr>\n",
              "      <th>3</th>\n",
              "      <td>2019-01-01 00:08:06</td>\n",
              "      <td>16</td>\n",
              "      <td>Puente Aranda</td>\n",
              "      <td>NaN</td>\n",
              "      <td>NaN</td>\n",
              "      <td>Sur</td>\n",
              "      <td>Accidente de tránsito con heridos/muertos</td>\n",
              "      <td>Alta</td>\n",
              "      <td>Cancelado</td>\n",
              "    </tr>\n",
              "    <tr>\n",
              "      <th>4</th>\n",
              "      <td>2019-01-01 00:10:26</td>\n",
              "      <td>15</td>\n",
              "      <td>Antonio Nariño</td>\n",
              "      <td>NaN</td>\n",
              "      <td>NaN</td>\n",
              "      <td>Norte</td>\n",
              "      <td>Inconsciente/paro cardiorrespiratorio</td>\n",
              "      <td>Alta</td>\n",
              "      <td>Cancelado</td>\n",
              "    </tr>\n",
              "  </tbody>\n",
              "</table>\n",
              "</div>\n",
              "    <div class=\"colab-df-buttons\">\n",
              "\n",
              "  <div class=\"colab-df-container\">\n",
              "    <button class=\"colab-df-convert\" onclick=\"convertToInteractive('df-32b5e51e-249a-4d06-bbda-1c57982682d9')\"\n",
              "            title=\"Convert this dataframe to an interactive table.\"\n",
              "            style=\"display:none;\">\n",
              "\n",
              "  <svg xmlns=\"http://www.w3.org/2000/svg\" height=\"24px\" viewBox=\"0 -960 960 960\">\n",
              "    <path d=\"M120-120v-720h720v720H120Zm60-500h600v-160H180v160Zm220 220h160v-160H400v160Zm0 220h160v-160H400v160ZM180-400h160v-160H180v160Zm440 0h160v-160H620v160ZM180-180h160v-160H180v160Zm440 0h160v-160H620v160Z\"/>\n",
              "  </svg>\n",
              "    </button>\n",
              "\n",
              "  <style>\n",
              "    .colab-df-container {\n",
              "      display:flex;\n",
              "      gap: 12px;\n",
              "    }\n",
              "\n",
              "    .colab-df-convert {\n",
              "      background-color: #E8F0FE;\n",
              "      border: none;\n",
              "      border-radius: 50%;\n",
              "      cursor: pointer;\n",
              "      display: none;\n",
              "      fill: #1967D2;\n",
              "      height: 32px;\n",
              "      padding: 0 0 0 0;\n",
              "      width: 32px;\n",
              "    }\n",
              "\n",
              "    .colab-df-convert:hover {\n",
              "      background-color: #E2EBFA;\n",
              "      box-shadow: 0px 1px 2px rgba(60, 64, 67, 0.3), 0px 1px 3px 1px rgba(60, 64, 67, 0.15);\n",
              "      fill: #174EA6;\n",
              "    }\n",
              "\n",
              "    .colab-df-buttons div {\n",
              "      margin-bottom: 4px;\n",
              "    }\n",
              "\n",
              "    [theme=dark] .colab-df-convert {\n",
              "      background-color: #3B4455;\n",
              "      fill: #D2E3FC;\n",
              "    }\n",
              "\n",
              "    [theme=dark] .colab-df-convert:hover {\n",
              "      background-color: #434B5C;\n",
              "      box-shadow: 0px 1px 3px 1px rgba(0, 0, 0, 0.15);\n",
              "      filter: drop-shadow(0px 1px 2px rgba(0, 0, 0, 0.3));\n",
              "      fill: #FFFFFF;\n",
              "    }\n",
              "  </style>\n",
              "\n",
              "    <script>\n",
              "      const buttonEl =\n",
              "        document.querySelector('#df-32b5e51e-249a-4d06-bbda-1c57982682d9 button.colab-df-convert');\n",
              "      buttonEl.style.display =\n",
              "        google.colab.kernel.accessAllowed ? 'block' : 'none';\n",
              "\n",
              "      async function convertToInteractive(key) {\n",
              "        const element = document.querySelector('#df-32b5e51e-249a-4d06-bbda-1c57982682d9');\n",
              "        const dataTable =\n",
              "          await google.colab.kernel.invokeFunction('convertToInteractive',\n",
              "                                                    [key], {});\n",
              "        if (!dataTable) return;\n",
              "\n",
              "        const docLinkHtml = 'Like what you see? Visit the ' +\n",
              "          '<a target=\"_blank\" href=https://colab.research.google.com/notebooks/data_table.ipynb>data table notebook</a>'\n",
              "          + ' to learn more about interactive tables.';\n",
              "        element.innerHTML = '';\n",
              "        dataTable['output_type'] = 'display_data';\n",
              "        await google.colab.output.renderOutput(dataTable, element);\n",
              "        const docLink = document.createElement('div');\n",
              "        docLink.innerHTML = docLinkHtml;\n",
              "        element.appendChild(docLink);\n",
              "      }\n",
              "    </script>\n",
              "  </div>\n",
              "\n",
              "\n",
              "    <div id=\"df-405b928b-6d68-4d0a-911e-72f1e2abc49a\">\n",
              "      <button class=\"colab-df-quickchart\" onclick=\"quickchart('df-405b928b-6d68-4d0a-911e-72f1e2abc49a')\"\n",
              "                title=\"Suggest charts\"\n",
              "                style=\"display:none;\">\n",
              "\n",
              "<svg xmlns=\"http://www.w3.org/2000/svg\" height=\"24px\"viewBox=\"0 0 24 24\"\n",
              "     width=\"24px\">\n",
              "    <g>\n",
              "        <path d=\"M19 3H5c-1.1 0-2 .9-2 2v14c0 1.1.9 2 2 2h14c1.1 0 2-.9 2-2V5c0-1.1-.9-2-2-2zM9 17H7v-7h2v7zm4 0h-2V7h2v10zm4 0h-2v-4h2v4z\"/>\n",
              "    </g>\n",
              "</svg>\n",
              "      </button>\n",
              "\n",
              "<style>\n",
              "  .colab-df-quickchart {\n",
              "      --bg-color: #E8F0FE;\n",
              "      --fill-color: #1967D2;\n",
              "      --hover-bg-color: #E2EBFA;\n",
              "      --hover-fill-color: #174EA6;\n",
              "      --disabled-fill-color: #AAA;\n",
              "      --disabled-bg-color: #DDD;\n",
              "  }\n",
              "\n",
              "  [theme=dark] .colab-df-quickchart {\n",
              "      --bg-color: #3B4455;\n",
              "      --fill-color: #D2E3FC;\n",
              "      --hover-bg-color: #434B5C;\n",
              "      --hover-fill-color: #FFFFFF;\n",
              "      --disabled-bg-color: #3B4455;\n",
              "      --disabled-fill-color: #666;\n",
              "  }\n",
              "\n",
              "  .colab-df-quickchart {\n",
              "    background-color: var(--bg-color);\n",
              "    border: none;\n",
              "    border-radius: 50%;\n",
              "    cursor: pointer;\n",
              "    display: none;\n",
              "    fill: var(--fill-color);\n",
              "    height: 32px;\n",
              "    padding: 0;\n",
              "    width: 32px;\n",
              "  }\n",
              "\n",
              "  .colab-df-quickchart:hover {\n",
              "    background-color: var(--hover-bg-color);\n",
              "    box-shadow: 0 1px 2px rgba(60, 64, 67, 0.3), 0 1px 3px 1px rgba(60, 64, 67, 0.15);\n",
              "    fill: var(--button-hover-fill-color);\n",
              "  }\n",
              "\n",
              "  .colab-df-quickchart-complete:disabled,\n",
              "  .colab-df-quickchart-complete:disabled:hover {\n",
              "    background-color: var(--disabled-bg-color);\n",
              "    fill: var(--disabled-fill-color);\n",
              "    box-shadow: none;\n",
              "  }\n",
              "\n",
              "  .colab-df-spinner {\n",
              "    border: 2px solid var(--fill-color);\n",
              "    border-color: transparent;\n",
              "    border-bottom-color: var(--fill-color);\n",
              "    animation:\n",
              "      spin 1s steps(1) infinite;\n",
              "  }\n",
              "\n",
              "  @keyframes spin {\n",
              "    0% {\n",
              "      border-color: transparent;\n",
              "      border-bottom-color: var(--fill-color);\n",
              "      border-left-color: var(--fill-color);\n",
              "    }\n",
              "    20% {\n",
              "      border-color: transparent;\n",
              "      border-left-color: var(--fill-color);\n",
              "      border-top-color: var(--fill-color);\n",
              "    }\n",
              "    30% {\n",
              "      border-color: transparent;\n",
              "      border-left-color: var(--fill-color);\n",
              "      border-top-color: var(--fill-color);\n",
              "      border-right-color: var(--fill-color);\n",
              "    }\n",
              "    40% {\n",
              "      border-color: transparent;\n",
              "      border-right-color: var(--fill-color);\n",
              "      border-top-color: var(--fill-color);\n",
              "    }\n",
              "    60% {\n",
              "      border-color: transparent;\n",
              "      border-right-color: var(--fill-color);\n",
              "    }\n",
              "    80% {\n",
              "      border-color: transparent;\n",
              "      border-right-color: var(--fill-color);\n",
              "      border-bottom-color: var(--fill-color);\n",
              "    }\n",
              "    90% {\n",
              "      border-color: transparent;\n",
              "      border-bottom-color: var(--fill-color);\n",
              "    }\n",
              "  }\n",
              "</style>\n",
              "\n",
              "      <script>\n",
              "        async function quickchart(key) {\n",
              "          const quickchartButtonEl =\n",
              "            document.querySelector('#' + key + ' button');\n",
              "          quickchartButtonEl.disabled = true;  // To prevent multiple clicks.\n",
              "          quickchartButtonEl.classList.add('colab-df-spinner');\n",
              "          try {\n",
              "            const charts = await google.colab.kernel.invokeFunction(\n",
              "                'suggestCharts', [key], {});\n",
              "          } catch (error) {\n",
              "            console.error('Error during call to suggestCharts:', error);\n",
              "          }\n",
              "          quickchartButtonEl.classList.remove('colab-df-spinner');\n",
              "          quickchartButtonEl.classList.add('colab-df-quickchart-complete');\n",
              "        }\n",
              "        (() => {\n",
              "          let quickchartButtonEl =\n",
              "            document.querySelector('#df-405b928b-6d68-4d0a-911e-72f1e2abc49a button');\n",
              "          quickchartButtonEl.style.display =\n",
              "            google.colab.kernel.accessAllowed ? 'block' : 'none';\n",
              "        })();\n",
              "      </script>\n",
              "    </div>\n",
              "\n",
              "    </div>\n",
              "  </div>\n"
            ],
            "application/vnd.google.colaboratory.intrinsic+json": {
              "type": "dataframe",
              "variable_name": "emergencia_data"
            }
          },
          "metadata": {},
          "execution_count": 4
        }
      ]
    },
    {
      "cell_type": "markdown",
      "source": [
        "# Trabajo para la Columna EDAD"
      ],
      "metadata": {
        "id": "bOcJfvFLoSbs"
      }
    },
    {
      "cell_type": "code",
      "source": [
        "# Contar la cantidad de valores NaN en la columna 'EDAD'\n",
        "emergencia_data['EDAD'] = pd.to_numeric(emergencia_data['EDAD'], errors='coerce')\n",
        "nan_count = emergencia_data['EDAD'].isna().sum()\n",
        "print(f\"Cantidad total de lineas ': {len(emergencia_data)}  \\n\")\n",
        "print(f\"Cantidad de valores NaN en la columna 'EDAD': {nan_count}  \\n\")\n",
        "print(f\"Cantidad de valores en la columna 'EDAD': {len(emergencia_data) - nan_count}  \\n\")\n",
        "print(f\"Porcentaje de valores en la columna 'EDAD': { nan_count / len(emergencia_data) *100 }  \\n\")\n",
        "print(f\"Valor maximo es {emergencia_data['EDAD'].max()} \\n\")\n",
        "print(f\"Valor mínimo es {emergencia_data['EDAD'].min()} \\n \")\n",
        "print(f\"Media de la EDAD  {emergencia_data['EDAD'].mean()} \\n\")\n",
        "print(f\"Mediana de la EDAD {emergencia_data['EDAD'].median()} \\n\")\n",
        "print(f\"Moda de la EDAD {emergencia_data['EDAD'].mode()[0]} \\n\")\n",
        "print(f\"Desviación estándar de la EDAD {emergencia_data['EDAD'].std()} \\n\")\n",
        "print(f\"Percentil 25 de la EDAD {emergencia_data['EDAD'].quantile(0.25)} \\n\")\n",
        "print(f\"Percentil 75 de la EDAD {emergencia_data['EDAD'].quantile(0.75)} \\n\")\n",
        "\n"
      ],
      "metadata": {
        "colab": {
          "base_uri": "https://localhost:8080/"
        },
        "id": "cOLI4-mPSN5B",
        "outputId": "333361fc-5768-4f62-d4e7-81a62a29fb1a"
      },
      "execution_count": 28,
      "outputs": [
        {
          "output_type": "stream",
          "name": "stdout",
          "text": [
            "Cantidad total de lineas ': 242241  \n",
            "\n",
            "Cantidad de valores NaN en la columna 'EDAD': 112310  \n",
            "\n",
            "Cantidad de valores en la columna 'EDAD': 129931  \n",
            "\n",
            "Porcentaje de valores en la columna 'EDAD': 46.362919571831355  \n",
            "\n",
            "Valor maximo es 99.0 \n",
            "\n",
            "Valor mínimo es 0.0 \n",
            " \n",
            "Media de la EDAD  45.76640678513981 \n",
            "\n",
            "Mediana de la EDAD 40.0 \n",
            "\n"
          ]
        }
      ]
    },
    {
      "cell_type": "code",
      "source": [
        "#Grafico de Edad\n",
        "\n",
        "\n",
        "#\n",
        "fig, (ax_hist, ax_box) = plt.subplots(\n",
        "    2, 1,\n",
        "    sharex=True,\n",
        "    figsize=(10, 6),\n",
        "    gridspec_kw={'height_ratios': [4, 1]} # Proporción de alturas [4 (hist), 1 (box)]\n",
        ")\n",
        "\n",
        "# 2. Eliminar el espacio vertical entre los subplots\n",
        "fig.subplots_adjust(hspace=0)\n",
        "\n",
        "# --- Histograma de EDAD (Superior) ---\n",
        "# Se utiliza ax_hist para el histograma\n",
        "ax_hist.hist(\n",
        "    emergencia_data['EDAD'].dropna(),\n",
        "    bins=15,\n",
        "    color='skyblue',\n",
        "    edgecolor='black'\n",
        ")\n",
        "ax_hist.set_title('Distribución de EDAD y Diagrama de Caja', fontsize=14)\n",
        "ax_hist.set_ylabel('Frecuencia', fontsize=12)\n",
        "ax_hist.grid(axis='y', alpha=0.5)\n",
        "\n",
        "# Ocultar las etiquetas del eje X en el histograma para evitar redundancia\n",
        "ax_hist.tick_params(axis=\"x\", labelbottom=False)\n",
        "\n",
        "# --- Box Plot (Diagrama de Caja) de EDAD (Inferior) ---\n",
        "# Se utiliza ax_box para el box plot\n",
        "ax_box.boxplot(\n",
        "    emergencia_data['EDAD'].dropna(),\n",
        "    vert=False, # Horizontal\n",
        "    patch_artist=True,\n",
        "    boxprops=dict(facecolor='lightgreen', color='black'),\n",
        "    flierprops=dict(marker='o', markersize=5, markerfacecolor='red', alpha=0.5) # Estilo de Outliers\n",
        ")\n",
        "ax_box.set_xlabel('EDAD (años)', fontsize=12)\n",
        "ax_box.set_yticks([]) # Eliminar la etiqueta de Y para el box plot\n",
        "ax_box.grid(axis='x', alpha=0.5)\n",
        "\n",
        "plt.show()\n",
        "\n"
      ],
      "metadata": {
        "colab": {
          "base_uri": "https://localhost:8080/",
          "height": 519
        },
        "id": "pW6TMKT28-mK",
        "outputId": "3521a158-93cd-44ca-c813-3523ff9ef7aa"
      },
      "execution_count": 5,
      "outputs": [
        {
          "output_type": "display_data",
          "data": {
            "text/plain": [
              "<Figure size 1000x600 with 2 Axes>"
            ],
            "image/png": "[encoded data removed]"
          },
          "metadata": {}
        }
      ]
    },
    {
      "cell_type": "code",
      "source": [
        "# Contar la cantidad de valores NaN en la columna 'Genero'\n",
        "\n",
        "emergencia_data['GENERO'] = emergencia_data['GENERO'].replace('', np.nan)\n",
        "\n",
        "nan_count_genero = emergencia_data['GENERO'].isna().sum()\n",
        "\n",
        "print(f\"Cantidad de valores NaN en la columna 'GENERO': {nan_count_genero} \\n\")\n",
        "print(f\"Cantidad de valores en la columna 'GENERO': {len(emergencia_data) - nan_count_genero}  \\n\")\n",
        "\n",
        "print(f\"Porcentaje de valores en la columna 'GENERO': {nan_count_genero / len(emergencia_data) *100 }  \\n\")"
      ],
      "metadata": {
        "colab": {
          "base_uri": "https://localhost:8080/"
        },
        "id": "Ekmln0-Abl7G",
        "outputId": "97d5b8f5-6d39-4ff8-cbba-51bafbe894bd"
      },
      "execution_count": 6,
      "outputs": [
        {
          "output_type": "stream",
          "name": "stdout",
          "text": [
            "Cantidad de valores NaN en la columna 'GENERO': 112252 \n",
            "\n",
            "Cantidad de valores en la columna 'GENERO': 129989  \n",
            "\n",
            "Porcentaje de valores en la columna 'GENERO': 46.338976473842166  \n",
            "\n"
          ]
        }
      ]
    },
    {
      "cell_type": "markdown",
      "source": [
        "# Trabajo lara la columna GENERO"
      ],
      "metadata": {
        "id": "VqmM0IK9oICg"
      }
    },
    {
      "cell_type": "code",
      "source": [
        "# histograma por genero.\n",
        "\n",
        "emergencia_data['GENERO'].replace(['', ' '], np.nan, inplace=True)\n",
        "\n",
        "# 2. Contar las ocurrencias de cada valor único en 'GENERO'\n",
        "gendero_contar = emergencia_data['GENERO'].value_counts()\n",
        "\n",
        "# 3. Generar el gráfico de barras\n",
        "plt.figure(figsize=(8, 6))\n",
        "\n",
        "bars = plt.bar(\n",
        "    gendero_contar.index,\n",
        "    gendero_contar.values,\n",
        "    color=['skyblue', 'salmon', 'lightgreen'],\n",
        "    edgecolor='black'\n",
        ")\n",
        "\n",
        "plt.title('Distribución de Llamadas por GÉNERO', fontsize=16)\n",
        "plt.xlabel('GÉNERO', fontsize=12)\n",
        "plt.ylabel('Frecuencia (Cantidad de Llamadas)', fontsize=12)\n",
        "plt.grid(axis='y', alpha=0.5)\n",
        "\n",
        "# Añadir etiquetas de conteo\n",
        "for bar in bars:\n",
        "    yval = bar.get_height()\n",
        "    plt.text(bar.get_x() + bar.get_width()/2, yval + 500, int(yval), ha='center', va='bottom')\n",
        "\n",
        "plt.tight_layout()\n",
        "plt.savefig('grafico_de_distribucion_barra_genero.png')\n",
        "plt.show()"
      ],
      "metadata": {
        "colab": {
          "base_uri": "https://localhost:8080/",
          "height": 607
        },
        "id": "TOjD5G1-PyjV",
        "outputId": "59cdafeb-788d-4ec3-f847-92fcd24f0949"
      },
      "execution_count": 20,
      "outputs": [
        {
          "output_type": "display_data",
          "data": {
            "text/plain": [
              "<Figure size 800x600 with 1 Axes>"
            ],
            "image/png": "[encoded data removed]"
          },
          "metadata": {}
        }
      ]
    },
    {
      "cell_type": "markdown",
      "source": [
        "# Trabajo para la columna tipo de incidente"
      ],
      "metadata": {
        "id": "HFUaLuNwn_FX"
      }
    },
    {
      "cell_type": "code",
      "source": [
        "# Cantidad de incidentes\n",
        "tipos_incidentes = emergencia_data['TIPO_INCIDENTE'].nunique()\n",
        "\n",
        "print(f\"Cantida de tipos de incidentes :{tipos_incidentes} \\n \")\n",
        "print(emergencia_data['TIPO_INCIDENTE'].unique())\n",
        "\n",
        "print(\"\\n\\n\")\n",
        "\n"
      ],
      "metadata": {
        "colab": {
          "base_uri": "https://localhost:8080/"
        },
        "id": "KOEEuTq1gt4v",
        "outputId": "552b55f3-209f-446a-e76b-f67f3daa14d0"
      },
      "execution_count": 22,
      "outputs": [
        {
          "output_type": "stream",
          "name": "stdout",
          "text": [
            "Cantida de tipos de incidentes :81 \n",
            " \n",
            "['Lesiones personales' 'Dolor torácico'\n",
            " 'Inconsciente/paro cardiorrespiratorio'\n",
            " 'Accidente de tránsito con heridos/muertos' 'Herido con pólvora'\n",
            " 'Intento de suicidio' 'Disparos' 'Enfermo' 'Heridos'\n",
            " 'Dificultad respiratoria' 'Caída' 'Trastorno mental' 'Intoxicaciones'\n",
            " 'Convulsiones' 'Incidente rescate acuático' 'Accidente cerebro vascular'\n",
            " 'Quemaduras' 'Síntomas gastrointestinales' 'Riña' 'Embriaguez'\n",
            " 'Ideas de suicidio' 'Incendio estructural'\n",
            " 'Patología gineco - obstétrica' 'Incendio forestal' 'Muerte natural'\n",
            " 'Violencia sexual' 'Verificar situación' 'Abrir domicilio'\n",
            " 'Sangrado vaginal' 'Incendio vehicular' 'Accidente tránsito simple'\n",
            " 'Rescates' 'Persona pidiendo auxilio' 'Habitante de la calle' nan\n",
            " 'Persona tendida en la vía' 'Electrocución / rescate'\n",
            " 'Fuga de gas natural o propano' 'Solicitud apoyo / desacato'\n",
            " 'Elemento caído y/o en peligro de caer.' 'Animal peligroso'\n",
            " 'Atraco / hurto en proces' 'Muerto' 'Explosión'\n",
            " 'Extraviados / desaparecidos' 'Menor o persona abandonada'\n",
            " 'Rapto / secuestro' 'Matpel (materiales peligrosos)' 'Maltrato'\n",
            " 'Manifestación / motín' 'Prevención' 'Incendio con matpel'\n",
            " 'Amenaza de ruina' 'Rescates montaña' 'Vehículo recuperado'\n",
            " 'Hurto efectuado' 'Venta o consumo alcohol u otro en menor'\n",
            " 'Delincuente capturado por civil' 'Incendio' 'Hallazgo de explosivos'\n",
            " 'Animal atrapado' 'Vehiculo hurtado' 'Abejas' 'Inundación'\n",
            " 'Deslizamiento' 'Persona o vehículo sospechoso'\n",
            " 'Vehículo abandonado / mal estacionado' 'Psicologia' 'Fallecido'\n",
            " 'Narcoticos' 'Daños en servicios'\n",
            " 'Accidente tránsito con heridos/muertos'\n",
            " 'Inconsciente / paro cardiorespiratorio' 'Heridos accidentales'\n",
            " 'Evento respiratorio' 'Convulsión' 'Caída de altura'\n",
            " 'Patología ginecobstétrica' 'Intoxicación'\n",
            " 'Accidente cerebro vascular (acv)' 'S/d' 'Accidente de aviación']\n",
            "\n",
            "\n",
            "\n"
          ]
        }
      ]
    },
    {
      "cell_type": "markdown",
      "source": [
        " ## Agrupar por 'TIPO_INCIDENTE' y calcular la mediana  por grupo.\n"
      ],
      "metadata": {
        "id": "yJTvQrEUnY-v"
      }
    },
    {
      "cell_type": "code",
      "source": [
        "#Agrupar por 'TIPO_INCIDENTE' y  calcular la mediana de la \"EDAD\"\n",
        "mediana_edad_por_accidente = emergencia_data.groupby('TIPO_INCIDENTE')['EDAD'].median()\n",
        "\n",
        "#Agrupar por 'TIPO_INCIDENTE' y calcular la cantidad total de incidentes.\n",
        "cantidad_por_accidente = emergencia_data.groupby('TIPO_INCIDENTE')['EDAD'].count()\n",
        "\n",
        "# Sacar solo filas donde EDAD es NaN\n",
        "registros_nan_edad = emergencia_data[emergencia_data['EDAD'].isna()]\n",
        "\n",
        "# Cuenta la cantidad de los TIPO_INCIDENTE en este subconjunto\n",
        "conteo_nan_por_incidente = registros_nan_edad['TIPO_INCIDENTE'].value_counts()\n",
        "\n",
        "# Procede a agrupar informacion\n",
        "resultados_combinados = pd.DataFrame({\n",
        "    'Edad Mediana': mediana_edad_por_accidente,\n",
        "    'Cantidad de Registros': cantidad_por_accidente,\n",
        "    'valores NaN en EDAD': conteo_nan_por_incidente\n",
        "}).reset_index()\n",
        "\n",
        "# se ordena por la Edad Mediana para toma de decisiones.\n",
        "resultados_combinados_ordenados = resultados_combinados.sort_values(\n",
        "    by='Edad Mediana',\n",
        "    ascending=False\n",
        ")\n",
        "\n",
        "\n",
        "print(resultados_combinados_ordenados.to_string(index=False))\n"
      ],
      "metadata": {
        "colab": {
          "base_uri": "https://localhost:8080/"
        },
        "id": "KrAbzulJOKv0",
        "outputId": "0683ee5d-da1f-42bc-a901-867b46cd121e"
      },
      "execution_count": 18,
      "outputs": [
        {
          "output_type": "stream",
          "name": "stdout",
          "text": [
            "                           TIPO_INCIDENTE  Edad Mediana  Cantidad de Registros  valores NaN en EDAD\n",
            "                        Rapto / secuestro          84.0                      1                  1.0\n",
            "               Menor o persona abandonada          75.0                      9                 12.0\n",
            "                          Abrir domicilio          74.0                     49                 34.0\n",
            "                                Fallecido          72.0                      1                  1.0\n",
            "                      Evento respiratorio          72.0                    916                488.0\n",
            "                           Muerte natural          72.0                    181                296.0\n",
            "         Accidente cerebro vascular (acv)          70.0                      3                  4.0\n",
            "                  Dificultad respiratoria          69.0                  15992               5597.0\n",
            "               Accidente cerebro vascular          68.0                   3817               1492.0\n",
            "                                  Enfermo          61.0                  12879               5573.0\n",
            "              Síntomas gastrointestinales          61.0                   4579               1400.0\n",
            "                           Dolor torácico          59.0                   6354               3429.0\n",
            "                                   Muerto          59.0                     12                 25.0\n",
            "   Inconsciente / paro cardiorespiratorio          58.0                    814                929.0\n",
            "    Inconsciente/paro cardiorrespiratorio          56.0                  14081              11677.0\n",
            "                 Persona pidiendo auxilio          54.0                     32                 72.0\n",
            "                         Vehiculo hurtado          53.0                      2                  3.0\n",
            "                          Caída de altura          52.0                    204                173.0\n",
            "                    Habitante de la calle          49.5                      6                  9.0\n",
            "                       Incendio vehicular          47.0                     18                 49.0\n",
            "                                    Caída          45.0                   3035               1781.0\n",
            "                       Herido con pólvora          42.0                      2                  2.0\n",
            "                                  Heridos          42.0                   9512               8239.0\n",
            "                        Incendio forestal          41.5                     16                 39.0\n",
            "                       Daños en servicios          40.0                      3                  NaN\n",
            "               Incidente rescate acuático          39.0                     22                 50.0\n",
            "                         Sangrado vaginal          39.0                    229                 82.0\n",
            "                         Animal peligroso          36.0                     15                 12.0\n",
            "                  Electrocución / rescate          35.0                     88                 84.0\n",
            "                               Convulsión          35.0                    500                527.0\n",
            "                             Intoxicación          34.0                     62                 91.0\n",
            "                         Trastorno mental          33.0                   8329               2380.0\n",
            "   Elemento caído y/o en peligro de caer.          33.0                     46                 31.0\n",
            "                Persona tendida en la vía          32.5                     12                 36.0\n",
            "                               Embriaguez          32.0                     19                 49.0\n",
            "           Matpel (materiales peligrosos)          32.0                     48                 27.0\n",
            "                                      S/d          32.0                     64                 74.0\n",
            "               Solicitud apoyo / desacato          31.0                    137                261.0\n",
            "            Fuga de gas natural o propano          31.0                     53                 58.0\n",
            "                             Convulsiones          31.0                   8377               6910.0\n",
            "                     Heridos accidentales          30.0                   2955               4435.0\n",
            "                Accidente tránsito simple          29.0                    943               2744.0\n",
            "   Accidente tránsito con heridos/muertos          29.0                     56                 52.0\n",
            "                                 Rescates          29.0                     83                 64.0\n",
            "                      Incendio con matpel          29.0                      3                 14.0\n",
            "                          Hurto efectuado          29.0                      9                  7.0\n",
            "                                 Incendio          29.0                     35                 33.0\n",
            "Accidente de tránsito con heridos/muertos          28.0                  19654              37661.0\n",
            "                      Lesiones personales          28.0                   2483               6028.0\n",
            "                                Explosión          28.0                     77                 83.0\n",
            "                      Verificar situación          27.5                     24                 13.0\n",
            "                     Incendio estructural          27.0                    190                307.0\n",
            "                            Deslizamiento          27.0                      4                 29.0\n",
            "                               Quemaduras          27.0                    124                123.0\n",
            "          Delincuente capturado por civil          26.0                      6                  4.0\n",
            "                           Intoxicaciones          26.0                   1367               1152.0\n",
            "                                     Riña          26.0                     68                127.0\n",
            "                 Atraco / hurto en proces          25.5                     12                 49.0\n",
            "                                 Disparos          25.0                      3                 28.0\n",
            "                               Narcoticos          25.0                      1                  1.0\n",
            "                      Intento de suicidio          24.0                   5322               4319.0\n",
            "            Patología gineco - obstétrica          24.0                   3839               1827.0\n",
            "                        Ideas de suicidio          24.0                   1163                412.0\n",
            "                               Prevención          23.0                      3                  3.0\n",
            "                         Amenaza de ruina          23.0                     17                 12.0\n",
            "                                   Abejas          23.0                      3                  5.0\n",
            "                Patología ginecobstétrica          23.0                    225                146.0\n",
            "              Extraviados / desaparecidos          22.5                      8                  3.0\n",
            "                          Animal atrapado          22.0                      2                  NaN\n",
            "                         Rescates montaña          22.0                      2                  4.0\n",
            "                               Psicologia          19.5                      2                  4.0\n",
            "                    Manifestación / motín          18.5                     94                 37.0\n",
            "                         Violencia sexual          16.0                    312                226.0\n",
            "  Venta o consumo alcohol u otro en menor          14.0                      3                  NaN\n",
            "                                 Maltrato          12.0                     35                 34.0\n",
            "                    Accidente de aviación           NaN                      0                  1.0\n",
            "                   Hallazgo de explosivos           NaN                      0                  4.0\n",
            "                               Inundación           NaN                      0                  7.0\n",
            "            Persona o vehículo sospechoso           NaN                      0                  2.0\n",
            "    Vehículo abandonado / mal estacionado           NaN                      0                  2.0\n",
            "                      Vehículo recuperado           NaN                      0                  2.0\n"
          ]
        }
      ]
    },
    {
      "cell_type": "markdown",
      "source": [
        "# Trabajo para la columna PRIORIDAD"
      ],
      "metadata": {
        "id": "RkmhLE0YooGh"
      }
    },
    {
      "cell_type": "code",
      "source": [
        "# histograma por prioridad.\n",
        "\n",
        "# Cantidad estados de prioridad\n",
        "\n",
        "cantidad_PRIORIDAD = emergencia_data['PRIORIDAD'].nunique()\n",
        "\n",
        "print(f\"Cantidad de tipos de prioridad sin repeticiones: {cantidad_PRIORIDAD} \\n \")\n",
        "print(emergencia_data['PRIORIDAD'].unique())\n",
        "\n",
        "print(\"\\n\\n\")\n",
        "emergencia_data['PRIORIDAD'].replace(['', ' '], np.nan, inplace=True)\n",
        "\n",
        "# 2. Contar las ocurrencias de cada valor único en 'GENERO'\n",
        "prioridad_contar = emergencia_data['PRIORIDAD'].value_counts()\n",
        "\n",
        "# 3. Generar el gráfico de barras\n",
        "plt.figure(figsize=(8, 6))\n",
        "\n",
        "bars = plt.bar(\n",
        "    prioridad_contar.index,\n",
        "    prioridad_contar.values,\n",
        "    color=['skyblue', 'salmon', 'lightgreen'],\n",
        "    edgecolor='black'\n",
        ")\n",
        "\n",
        "plt.title('Distribución de Llamadas por PRIORIDAD', fontsize=16)\n",
        "plt.xlabel('PRIORIDAD', fontsize=12)\n",
        "plt.ylabel('Frecuencia (Cantidad de Llamadas)', fontsize=12)\n",
        "plt.grid(axis='y', alpha=0.5)\n",
        "\n",
        "# Añadir etiquetas de conteo\n",
        "for bar in bars:\n",
        "    yval = bar.get_height()\n",
        "    plt.text(bar.get_x() + bar.get_width()/2, yval + 500, int(yval), ha='center', va='bottom')\n",
        "\n",
        "plt.tight_layout()\n",
        "plt.savefig('grafico_de_distribución_barra.png')\n",
        "plt.show()"
      ],
      "metadata": {
        "colab": {
          "base_uri": "https://localhost:8080/",
          "height": 711
        },
        "id": "SlG7Lw1NorsV",
        "outputId": "91265430-fc01-4358-fe3b-5caca63ecbde"
      },
      "execution_count": 24,
      "outputs": [
        {
          "output_type": "stream",
          "name": "stdout",
          "text": [
            "Cantidad de tipos de prioridad sin repeticiones: 3 \n",
            " \n",
            "['Alta' 'Media' 'Baja' nan]\n",
            "\n",
            "\n",
            "\n"
          ]
        },
        {
          "output_type": "display_data",
          "data": {
            "text/plain": [
              "<Figure size 800x600 with 1 Axes>"
            ],
            "image/png": "[encoded data removed]"
          },
          "metadata": {}
        }
      ]
    },
    {
      "cell_type": "markdown",
      "source": [],
      "metadata": {
        "id": "kGpMzdm4qXMV"
      }
    },
    {
      "cell_type": "markdown",
      "source": [
        "# Trabajo para la columna Clasificación final"
      ],
      "metadata": {
        "id": "ielqp3Exqzuw"
      }
    },
    {
      "cell_type": "code",
      "source": [
        "\n",
        "print(\"\\n\\n\")\n",
        "\n",
        "\n",
        "# Cantidad de clasificacion final\n",
        "\n",
        "cantidad_CLASIFICACION = emergencia_data['CLASIFICACION_FINAL'].nunique()\n",
        "\n",
        "print(f\"Cantidad de tipos de clasificacion final  sin repeticiones: {cantidad_CLASIFICACION} \\n \")\n",
        "print(emergencia_data['CLASIFICACION_FINAL'].unique())\n"
      ],
      "metadata": {
        "colab": {
          "base_uri": "https://localhost:8080/"
        },
        "id": "NQtYAC-OqWHl",
        "outputId": "59b7c94a-bc6e-4759-82b2-eb1fc943d0c5"
      },
      "execution_count": 25,
      "outputs": [
        {
          "output_type": "stream",
          "name": "stdout",
          "text": [
            "\n",
            "\n",
            "\n",
            "Cantidad de tipos de clasificacion final  sin repeticiones: 9 \n",
            " \n",
            "['Cancelado' 'Traslado' 'Falsa Alarma' 'Trasladado por Otro Recurso'\n",
            " 'Desistimiento' 'No Ubica' 'Fallecido' 'Trasladado por Otro'\n",
            " 'No Amerita Traslado' nan]\n"
          ]
        }
      ]
    }
  ]
}